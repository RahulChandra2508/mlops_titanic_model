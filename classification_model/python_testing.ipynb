{
 "cells": [
  {
   "cell_type": "code",
   "execution_count": null,
   "metadata": {},
   "outputs": [],
   "source": [
    "#import yaml"
   ]
  },
  {
   "cell_type": "code",
   "execution_count": null,
   "metadata": {},
   "outputs": [],
   "source": [
    "import sys"
   ]
  },
  {
   "cell_type": "code",
   "execution_count": 1,
   "metadata": {},
   "outputs": [
    {
     "data": {
      "text/plain": [
       "['c:\\\\Users\\\\rahul\\\\Python\\\\MLOps_Udemy\\\\deploying-titanic-model\\\\mlops_titanic_model\\\\classification_model',\n",
       " 'C:\\\\Users\\\\rahul\\\\anaconda3\\\\envs\\\\mlops\\\\python310.zip',\n",
       " 'C:\\\\Users\\\\rahul\\\\anaconda3\\\\envs\\\\mlops\\\\DLLs',\n",
       " 'C:\\\\Users\\\\rahul\\\\anaconda3\\\\envs\\\\mlops\\\\lib',\n",
       " 'C:\\\\Users\\\\rahul\\\\anaconda3\\\\envs\\\\mlops',\n",
       " '',\n",
       " 'C:\\\\Users\\\\rahul\\\\anaconda3\\\\envs\\\\mlops\\\\lib\\\\site-packages',\n",
       " 'C:\\\\Users\\\\rahul\\\\anaconda3\\\\envs\\\\mlops\\\\lib\\\\site-packages\\\\win32',\n",
       " 'C:\\\\Users\\\\rahul\\\\anaconda3\\\\envs\\\\mlops\\\\lib\\\\site-packages\\\\win32\\\\lib',\n",
       " 'C:\\\\Users\\\\rahul\\\\anaconda3\\\\envs\\\\mlops\\\\lib\\\\site-packages\\\\Pythonwin',\n",
       " 'C:\\\\Users\\\\rahul\\\\AppData\\\\Roaming\\\\Python\\\\Python310\\\\site-packages']"
      ]
     },
     "execution_count": 1,
     "metadata": {},
     "output_type": "execute_result"
    }
   ],
   "source": [
    "sys.path"
   ]
  },
  {
   "cell_type": "code",
   "execution_count": null,
   "metadata": {},
   "outputs": [],
   "source": [
    "with open(\"config.yaml\", \"r\") as f:\n",
    "    try:\n",
    "        config_file = yaml.safe_load(f)\n",
    "        print(config_file[\"data_source\"][\"openml\"])\n",
    "        print(type(config_file[\"data_source\"][\"openml\"]))\n",
    "    except yaml.YAMLError as exc:\n",
    "        print(exc)"
   ]
  },
  {
   "cell_type": "code",
   "execution_count": null,
   "metadata": {},
   "outputs": [],
   "source": [
    "#import re\n",
    "\n",
    "# to handle datasets\n",
    "#import pandas as pd\n",
    "# to persist the model and the scaler\n",
    "#import joblib\n",
    "\n",
    "#import config\n",
    "#import yaml\n",
    "\n",
    "with open(\"config.yaml\",\"r\") as file:\n",
    "    config_file = yaml.safe_load(file)\n",
    "\n",
    "def load_data():\n",
    "    data = pd.read_csv(config_file[\"data_source\"][\"openml\"])\n",
    "    return data"
   ]
  },
  {
   "cell_type": "code",
   "execution_count": null,
   "metadata": {},
   "outputs": [],
   "source": [
    "load_data().head()"
   ]
  },
  {
   "cell_type": "code",
   "execution_count": null,
   "metadata": {},
   "outputs": [],
   "source": [
    "from sklearn.base import BaseEstimator, TransformerMixin"
   ]
  },
  {
   "cell_type": "code",
   "execution_count": null,
   "metadata": {},
   "outputs": [],
   "source": [
    "#from sklearn.model_selection import train_test_split"
   ]
  },
  {
   "cell_type": "code",
   "execution_count": null,
   "metadata": {},
   "outputs": [],
   "source": [
    "d = load_data()"
   ]
  },
  {
   "cell_type": "code",
   "execution_count": null,
   "metadata": {},
   "outputs": [],
   "source": [
    "d.drop(labels= [\"name\"], axis= 1)"
   ]
  },
  {
   "cell_type": "code",
   "execution_count": null,
   "metadata": {},
   "outputs": [],
   "source": [
    "import data_managers"
   ]
  },
  {
   "cell_type": "code",
   "execution_count": null,
   "metadata": {},
   "outputs": [],
   "source": [
    "new_data = data_managers.load_data()"
   ]
  },
  {
   "cell_type": "code",
   "execution_count": null,
   "metadata": {},
   "outputs": [],
   "source": [
    "X_train, X_test, y_train, y_test = data_managers.data_split(new_data)"
   ]
  },
  {
   "cell_type": "code",
   "execution_count": null,
   "metadata": {},
   "outputs": [],
   "source": [
    "X_train"
   ]
  },
  {
   "cell_type": "code",
   "execution_count": null,
   "metadata": {},
   "outputs": [],
   "source": [
    "from sklearn.preprocessing import StandardScaler\n",
    "from sklearn.linear_model import LogisticRegression"
   ]
  },
  {
   "cell_type": "code",
   "execution_count": null,
   "metadata": {},
   "outputs": [],
   "source": [
    "import data_managers"
   ]
  },
  {
   "cell_type": "code",
   "execution_count": null,
   "metadata": {},
   "outputs": [],
   "source": [
    "data_managers.load_data(split= \"yes\")\n"
   ]
  },
  {
   "cell_type": "code",
   "execution_count": 11,
   "metadata": {},
   "outputs": [],
   "source": [
    "import pipeline"
   ]
  },
  {
   "cell_type": "code",
   "execution_count": 12,
   "metadata": {},
   "outputs": [
    {
     "ename": "NameError",
     "evalue": "name 'ExtractLetterTransformer' is not defined",
     "output_type": "error",
     "traceback": [
      "\u001b[1;31m---------------------------------------------------------------------------\u001b[0m",
      "\u001b[1;31mNameError\u001b[0m                                 Traceback (most recent call last)",
      "\u001b[1;32mc:\\Users\\rahul\\Python\\MLOps_Udemy\\deploying-titanic-model\\mlops_titanic_model\\classification_model\\python_testing.ipynb Cell 17'\u001b[0m in \u001b[0;36m<module>\u001b[1;34m\u001b[0m\n\u001b[1;32m----> <a href='vscode-notebook-cell:/c%3A/Users/rahul/Python/MLOps_Udemy/deploying-titanic-model/mlops_titanic_model/classification_model/python_testing.ipynb#ch0000019?line=0'>1</a>\u001b[0m pipeline\u001b[39m.\u001b[39;49mpipeline()\n",
      "File \u001b[1;32mc:\\Users\\rahul\\Python\\MLOps_Udemy\\deploying-titanic-model\\mlops_titanic_model\\classification_model\\pipeline.py:38\u001b[0m, in \u001b[0;36mpipeline\u001b[1;34m()\u001b[0m\n\u001b[0;32m     <a href='file:///c%3A/Users/rahul/Python/MLOps_Udemy/deploying-titanic-model/mlops_titanic_model/classification_model/pipeline.py?line=22'>23</a>\u001b[0m \u001b[39mdef\u001b[39;00m \u001b[39mpipeline\u001b[39m():\n\u001b[0;32m     <a href='file:///c%3A/Users/rahul/Python/MLOps_Udemy/deploying-titanic-model/mlops_titanic_model/classification_model/pipeline.py?line=23'>24</a>\u001b[0m     titanic_pipe \u001b[39m=\u001b[39m Pipeline(\n\u001b[0;32m     <a href='file:///c%3A/Users/rahul/Python/MLOps_Udemy/deploying-titanic-model/mlops_titanic_model/classification_model/pipeline.py?line=24'>25</a>\u001b[0m                     [\n\u001b[0;32m     <a href='file:///c%3A/Users/rahul/Python/MLOps_Udemy/deploying-titanic-model/mlops_titanic_model/classification_model/pipeline.py?line=25'>26</a>\u001b[0m                         (\u001b[39m'\u001b[39m\u001b[39mcategorical_imputation\u001b[39m\u001b[39m'\u001b[39m, CategoricalImputer(\n\u001b[0;32m     <a href='file:///c%3A/Users/rahul/Python/MLOps_Udemy/deploying-titanic-model/mlops_titanic_model/classification_model/pipeline.py?line=26'>27</a>\u001b[0m                             imputation_method\u001b[39m=\u001b[39m\u001b[39m'\u001b[39m\u001b[39mmissing\u001b[39m\u001b[39m'\u001b[39m, variables\u001b[39m=\u001b[39m config_file[\u001b[39m\"\u001b[39m\u001b[39mattributes\u001b[39m\u001b[39m\"\u001b[39m][\u001b[39m\"\u001b[39m\u001b[39mcategorical_variables\u001b[39m\u001b[39m\"\u001b[39m])),\n\u001b[0;32m     <a href='file:///c%3A/Users/rahul/Python/MLOps_Udemy/deploying-titanic-model/mlops_titanic_model/classification_model/pipeline.py?line=27'>28</a>\u001b[0m \n\u001b[0;32m     <a href='file:///c%3A/Users/rahul/Python/MLOps_Udemy/deploying-titanic-model/mlops_titanic_model/classification_model/pipeline.py?line=28'>29</a>\u001b[0m                         \u001b[39m# add missing indicator to numerical variables\u001b[39;00m\n\u001b[0;32m     <a href='file:///c%3A/Users/rahul/Python/MLOps_Udemy/deploying-titanic-model/mlops_titanic_model/classification_model/pipeline.py?line=29'>30</a>\u001b[0m                         (\u001b[39m'\u001b[39m\u001b[39mmissing_indicator\u001b[39m\u001b[39m'\u001b[39m, AddMissingIndicator(variables\u001b[39m=\u001b[39m config_file[\u001b[39m\"\u001b[39m\u001b[39mattributes\u001b[39m\u001b[39m\"\u001b[39m][\u001b[39m\"\u001b[39m\u001b[39mnumeric_variables\u001b[39m\u001b[39m\"\u001b[39m])),\n\u001b[0;32m     <a href='file:///c%3A/Users/rahul/Python/MLOps_Udemy/deploying-titanic-model/mlops_titanic_model/classification_model/pipeline.py?line=30'>31</a>\u001b[0m \n\u001b[0;32m     <a href='file:///c%3A/Users/rahul/Python/MLOps_Udemy/deploying-titanic-model/mlops_titanic_model/classification_model/pipeline.py?line=31'>32</a>\u001b[0m                         \u001b[39m# impute numerical variables with the median\u001b[39;00m\n\u001b[0;32m     <a href='file:///c%3A/Users/rahul/Python/MLOps_Udemy/deploying-titanic-model/mlops_titanic_model/classification_model/pipeline.py?line=32'>33</a>\u001b[0m                         (\u001b[39m'\u001b[39m\u001b[39mmedian_imputation\u001b[39m\u001b[39m'\u001b[39m, MeanMedianImputer(\n\u001b[0;32m     <a href='file:///c%3A/Users/rahul/Python/MLOps_Udemy/deploying-titanic-model/mlops_titanic_model/classification_model/pipeline.py?line=33'>34</a>\u001b[0m                             imputation_method\u001b[39m=\u001b[39m\u001b[39m'\u001b[39m\u001b[39mmedian\u001b[39m\u001b[39m'\u001b[39m, variables\u001b[39m=\u001b[39m config_file[\u001b[39m\"\u001b[39m\u001b[39mattributes\u001b[39m\u001b[39m\"\u001b[39m][\u001b[39m\"\u001b[39m\u001b[39mnumeric_variables\u001b[39m\u001b[39m\"\u001b[39m])),\n\u001b[0;32m     <a href='file:///c%3A/Users/rahul/Python/MLOps_Udemy/deploying-titanic-model/mlops_titanic_model/classification_model/pipeline.py?line=34'>35</a>\u001b[0m \n\u001b[0;32m     <a href='file:///c%3A/Users/rahul/Python/MLOps_Udemy/deploying-titanic-model/mlops_titanic_model/classification_model/pipeline.py?line=35'>36</a>\u001b[0m \n\u001b[0;32m     <a href='file:///c%3A/Users/rahul/Python/MLOps_Udemy/deploying-titanic-model/mlops_titanic_model/classification_model/pipeline.py?line=36'>37</a>\u001b[0m                         \u001b[39m# Extract letter from cabin\u001b[39;00m\n\u001b[1;32m---> <a href='file:///c%3A/Users/rahul/Python/MLOps_Udemy/deploying-titanic-model/mlops_titanic_model/classification_model/pipeline.py?line=37'>38</a>\u001b[0m                         (\u001b[39m'\u001b[39m\u001b[39mextract_letter\u001b[39m\u001b[39m'\u001b[39m, ExtractLetterTransformer(variables\u001b[39m=\u001b[39m config_file[\u001b[39m\"\u001b[39m\u001b[39mattributes\u001b[39m\u001b[39m\"\u001b[39m][\u001b[39m\"\u001b[39m\u001b[39mcabin\u001b[39m\u001b[39m\"\u001b[39m])),\n\u001b[0;32m     <a href='file:///c%3A/Users/rahul/Python/MLOps_Udemy/deploying-titanic-model/mlops_titanic_model/classification_model/pipeline.py?line=38'>39</a>\u001b[0m \n\u001b[0;32m     <a href='file:///c%3A/Users/rahul/Python/MLOps_Udemy/deploying-titanic-model/mlops_titanic_model/classification_model/pipeline.py?line=39'>40</a>\u001b[0m \n\u001b[0;32m     <a href='file:///c%3A/Users/rahul/Python/MLOps_Udemy/deploying-titanic-model/mlops_titanic_model/classification_model/pipeline.py?line=40'>41</a>\u001b[0m                         \u001b[39m# == CATEGORICAL ENCODING ======\u001b[39;00m\n\u001b[0;32m     <a href='file:///c%3A/Users/rahul/Python/MLOps_Udemy/deploying-titanic-model/mlops_titanic_model/classification_model/pipeline.py?line=41'>42</a>\u001b[0m                         \u001b[39m# remove categories present in less than 5% of the observations (0.05)\u001b[39;00m\n\u001b[0;32m     <a href='file:///c%3A/Users/rahul/Python/MLOps_Udemy/deploying-titanic-model/mlops_titanic_model/classification_model/pipeline.py?line=42'>43</a>\u001b[0m                         \u001b[39m# group them in one category called 'Rare'\u001b[39;00m\n\u001b[0;32m     <a href='file:///c%3A/Users/rahul/Python/MLOps_Udemy/deploying-titanic-model/mlops_titanic_model/classification_model/pipeline.py?line=43'>44</a>\u001b[0m                         (\u001b[39m'\u001b[39m\u001b[39mrare_label_encoder\u001b[39m\u001b[39m'\u001b[39m, RareLabelEncoder(\n\u001b[0;32m     <a href='file:///c%3A/Users/rahul/Python/MLOps_Udemy/deploying-titanic-model/mlops_titanic_model/classification_model/pipeline.py?line=44'>45</a>\u001b[0m                             tol\u001b[39m=\u001b[39m\u001b[39m0.05\u001b[39m, n_categories\u001b[39m=\u001b[39m\u001b[39m1\u001b[39m, variables\u001b[39m=\u001b[39m config_file[\u001b[39m\"\u001b[39m\u001b[39mattributes\u001b[39m\u001b[39m\"\u001b[39m][\u001b[39m\"\u001b[39m\u001b[39mcategorical_variables\u001b[39m\u001b[39m\"\u001b[39m])),\n\u001b[0;32m     <a href='file:///c%3A/Users/rahul/Python/MLOps_Udemy/deploying-titanic-model/mlops_titanic_model/classification_model/pipeline.py?line=45'>46</a>\u001b[0m \n\u001b[0;32m     <a href='file:///c%3A/Users/rahul/Python/MLOps_Udemy/deploying-titanic-model/mlops_titanic_model/classification_model/pipeline.py?line=46'>47</a>\u001b[0m \n\u001b[0;32m     <a href='file:///c%3A/Users/rahul/Python/MLOps_Udemy/deploying-titanic-model/mlops_titanic_model/classification_model/pipeline.py?line=47'>48</a>\u001b[0m                         \u001b[39m# encode categorical variables using one hot encoding into k-1 variables\u001b[39;00m\n\u001b[0;32m     <a href='file:///c%3A/Users/rahul/Python/MLOps_Udemy/deploying-titanic-model/mlops_titanic_model/classification_model/pipeline.py?line=48'>49</a>\u001b[0m                         (\u001b[39m'\u001b[39m\u001b[39mcategorical_encoder\u001b[39m\u001b[39m'\u001b[39m, OneHotEncoder(\n\u001b[0;32m     <a href='file:///c%3A/Users/rahul/Python/MLOps_Udemy/deploying-titanic-model/mlops_titanic_model/classification_model/pipeline.py?line=49'>50</a>\u001b[0m                             drop_last\u001b[39m=\u001b[39m\u001b[39mTrue\u001b[39;00m, variables\u001b[39m=\u001b[39m config_file[\u001b[39m\"\u001b[39m\u001b[39mattributes\u001b[39m\u001b[39m\"\u001b[39m][\u001b[39m\"\u001b[39m\u001b[39mcategorical_variables\u001b[39m\u001b[39m\"\u001b[39m])),\n\u001b[0;32m     <a href='file:///c%3A/Users/rahul/Python/MLOps_Udemy/deploying-titanic-model/mlops_titanic_model/classification_model/pipeline.py?line=50'>51</a>\u001b[0m \n\u001b[0;32m     <a href='file:///c%3A/Users/rahul/Python/MLOps_Udemy/deploying-titanic-model/mlops_titanic_model/classification_model/pipeline.py?line=51'>52</a>\u001b[0m                         \u001b[39m# scale\u001b[39;00m\n\u001b[0;32m     <a href='file:///c%3A/Users/rahul/Python/MLOps_Udemy/deploying-titanic-model/mlops_titanic_model/classification_model/pipeline.py?line=52'>53</a>\u001b[0m                         (\u001b[39m'\u001b[39m\u001b[39mscaler\u001b[39m\u001b[39m'\u001b[39m, StandardScaler()),\n\u001b[0;32m     <a href='file:///c%3A/Users/rahul/Python/MLOps_Udemy/deploying-titanic-model/mlops_titanic_model/classification_model/pipeline.py?line=53'>54</a>\u001b[0m \n\u001b[0;32m     <a href='file:///c%3A/Users/rahul/Python/MLOps_Udemy/deploying-titanic-model/mlops_titanic_model/classification_model/pipeline.py?line=54'>55</a>\u001b[0m                         (\u001b[39m'\u001b[39m\u001b[39mLogit\u001b[39m\u001b[39m'\u001b[39m, LogisticRegression(C\u001b[39m=\u001b[39m\u001b[39m0.0005\u001b[39m, random_state\u001b[39m=\u001b[39m\u001b[39m0\u001b[39m))\n\u001b[0;32m     <a href='file:///c%3A/Users/rahul/Python/MLOps_Udemy/deploying-titanic-model/mlops_titanic_model/classification_model/pipeline.py?line=55'>56</a>\u001b[0m                     ]\n\u001b[0;32m     <a href='file:///c%3A/Users/rahul/Python/MLOps_Udemy/deploying-titanic-model/mlops_titanic_model/classification_model/pipeline.py?line=56'>57</a>\u001b[0m                         )\n\u001b[0;32m     <a href='file:///c%3A/Users/rahul/Python/MLOps_Udemy/deploying-titanic-model/mlops_titanic_model/classification_model/pipeline.py?line=58'>59</a>\u001b[0m     \u001b[39mreturn\u001b[39;00m titanic_pipe\n",
      "\u001b[1;31mNameError\u001b[0m: name 'ExtractLetterTransformer' is not defined"
     ]
    }
   ],
   "source": [
    "pipeline.pipeline()"
   ]
  },
  {
   "cell_type": "code",
   "execution_count": null,
   "metadata": {},
   "outputs": [],
   "source": []
  }
 ],
 "metadata": {
  "interpreter": {
   "hash": "aa335492331c5a430efee03ee150adc84e81bc6554d1d9722b71f8b7a2f1ddca"
  },
  "kernelspec": {
   "display_name": "Python 3.8.8 ('mlops')",
   "language": "python",
   "name": "python3"
  },
  "language_info": {
   "codemirror_mode": {
    "name": "ipython",
    "version": 3
   },
   "file_extension": ".py",
   "mimetype": "text/x-python",
   "name": "python",
   "nbconvert_exporter": "python",
   "pygments_lexer": "ipython3",
   "version": "3.8.8"
  },
  "orig_nbformat": 4
 },
 "nbformat": 4,
 "nbformat_minor": 2
}
