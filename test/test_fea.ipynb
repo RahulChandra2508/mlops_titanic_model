{
 "cells": [
  {
   "cell_type": "code",
   "execution_count": 6,
   "metadata": {},
   "outputs": [],
   "source": [
    "import pandas as pd\n",
    "import yaml\n",
    "from pathlib import Path"
   ]
  },
  {
   "cell_type": "code",
   "execution_count": 2,
   "metadata": {},
   "outputs": [
    {
     "ename": "ModuleNotFoundError",
     "evalue": "No module named 'mlops_titanic_model'",
     "output_type": "error",
     "traceback": [
      "\u001b[1;31m---------------------------------------------------------------------------\u001b[0m",
      "\u001b[1;31mModuleNotFoundError\u001b[0m                       Traceback (most recent call last)",
      "\u001b[1;32mc:\\Users\\rahul\\Python\\MLOps_Udemy\\deploying-titanic-model\\mlops_titanic_model\\test\\test_fea.ipynb Cell 2'\u001b[0m in \u001b[0;36m<module>\u001b[1;34m\u001b[0m\n\u001b[1;32m----> <a href='vscode-notebook-cell:/c%3A/Users/rahul/Python/MLOps_Udemy/deploying-titanic-model/mlops_titanic_model/test/test_fea.ipynb#ch0000008?line=0'>1</a>\u001b[0m \u001b[39mfrom\u001b[39;00m \u001b[39mmlops_titanic_model\u001b[39;00m\u001b[39m.\u001b[39;00m\u001b[39mclassification_model\u001b[39;00m \u001b[39mimport\u001b[39;00m data_managers\n",
      "\u001b[1;31mModuleNotFoundError\u001b[0m: No module named 'mlops_titanic_model'"
     ]
    }
   ],
   "source": [
    "from mlops_titanic_model.classification_model import data_managers"
   ]
  },
  {
   "cell_type": "code",
   "execution_count": 31,
   "metadata": {},
   "outputs": [
    {
     "data": {
      "text/plain": [
       "WindowsPath('c:/Users/rahul/Python/MLOps_Udemy/deploying-titanic-model/mlops_titanic_model')"
      ]
     },
     "execution_count": 31,
     "metadata": {},
     "output_type": "execute_result"
    }
   ],
   "source": [
    "Path.cwd().parent"
   ]
  },
  {
   "cell_type": "code",
   "execution_count": 30,
   "metadata": {},
   "outputs": [],
   "source": [
    "with open((Path.cwd().parent/\"config\"/\"config.yaml\"), \"r\") as file:\n",
    "    config_file = yaml.safe_load(file)\n"
   ]
  },
  {
   "cell_type": "code",
   "execution_count": null,
   "metadata": {},
   "outputs": [],
   "source": [
    "\n",
    "\n",
    "def test_ExtractLetterTransformer():\n",
    "    # saving the data copy into data folder\n",
    "    save_to_csv()\n",
    "    new_data = pd.read_csv(Path(config_file[\"path\"][\"DATA\"]) / \"titanic_data.csv\")\n",
    "\n",
    "    assert new_data[config_file[\"attributes\"][\"cabin\"]].iat[1] == \"C22 C26\"\n",
    "\n",
    "    # ExtractLetterTransformer\n",
    "    et_ins = fea.ExtractLetterTransformer(variables=config_file[\"attributes\"][\"cabin\"])\n",
    "\n",
    "    # when\n",
    "    new_data_transformed = et_ins.transform(X=new_data)\n",
    "\n",
    "    # then\n",
    "    assert new_data_transformed[config_file[\"attributes\"][\"cabin\"]] == \"C\""
   ]
  },
  {
   "cell_type": "code",
   "execution_count": 3,
   "metadata": {},
   "outputs": [],
   "source": [
    "new_data = pd.read_csv(Path(config_file[\"path\"][\"DATA\"]) / \"titanic_data.csv\")"
   ]
  },
  {
   "cell_type": "code",
   "execution_count": 8,
   "metadata": {},
   "outputs": [
    {
     "data": {
      "text/plain": [
       "'cabin'"
      ]
     },
     "execution_count": 8,
     "metadata": {},
     "output_type": "execute_result"
    }
   ],
   "source": [
    "config_file[\"attributes\"][\"cabin\"][0]"
   ]
  },
  {
   "cell_type": "code",
   "execution_count": 9,
   "metadata": {},
   "outputs": [],
   "source": [
    "assert new_data[config_file[\"attributes\"][\"cabin\"][0]].iat[1] == \"C22 C26\""
   ]
  },
  {
   "cell_type": "code",
   "execution_count": null,
   "metadata": {},
   "outputs": [],
   "source": [
    "\n",
    "\n",
    "    # ExtractLetterTransformer\n",
    "    et_ins = fea.ExtractLetterTransformer(variables=config_file[\"attributes\"][\"cabin\"])\n",
    "\n",
    "    # when\n",
    "    new_data_transformed = et_ins.transform(X=new_data)\n",
    "\n",
    "    # then\n",
    "    assert new_data_transformed[config_file[\"attributes\"][\"cabin\"]] == \"C\""
   ]
  }
 ],
 "metadata": {
  "interpreter": {
   "hash": "aa335492331c5a430efee03ee150adc84e81bc6554d1d9722b71f8b7a2f1ddca"
  },
  "kernelspec": {
   "display_name": "Python 3.8.8 ('mlops')",
   "language": "python",
   "name": "python3"
  },
  "language_info": {
   "codemirror_mode": {
    "name": "ipython",
    "version": 3
   },
   "file_extension": ".py",
   "mimetype": "text/x-python",
   "name": "python",
   "nbconvert_exporter": "python",
   "pygments_lexer": "ipython3",
   "version": "3.8.8"
  },
  "orig_nbformat": 4
 },
 "nbformat": 4,
 "nbformat_minor": 2
}
